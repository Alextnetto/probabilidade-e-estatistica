{
 "cells": [
  {
   "cell_type": "code",
   "execution_count": 14,
   "id": "455a0b6b-7b6b-468d-818a-9f687f8ce1c1",
   "metadata": {},
   "outputs": [],
   "source": [
    "import pandas as pd\n",
    "import numpy as np\n",
    "import scipy.stats as st\n",
    "\n",
    "df = pd.read_excel('data.xlsx')\n",
    "df.COMBUSTIVEL = 'D10)'\n",
    "df_BA = df[df.ESTADO == 'BAHIA']\n",
    "df_CE = df[df.ESTADO == 'CEARA']"
   ]
  },
  {
   "cell_type": "code",
   "execution_count": 32,
   "id": "18d0d9d8-d295-462c-8b85-058810e22625",
   "metadata": {},
   "outputs": [],
   "source": [
    "def analyse_df(df): \n",
    "    def get_range_value(value, first=True):\n",
    "        index = 0 if first else 1\n",
    "        value = str(value).replace(\"(\", \"\").replace(\"]\", \"\").replace(\" \", \"\").split(\",\")[index]\n",
    "        return float(value)\n",
    "        \n",
    "    def get_prob(value, first=True):\n",
    "        value = value['Zi(Li)'] if first else value['Zi(Ls)']\n",
    "        value = st.norm.cdf(value)\n",
    "        return value\n",
    "        \n",
    "    k = int(round(1 + (10/3) * np.log10(df.shape[0])))\n",
    "    print(f'K: {k}')\n",
    "    frequency = pd.value_counts(\n",
    "        pd.cut(x = df.PRE_VENDA, bins = k, include_lowest = True), sort = False)\n",
    "\n",
    "    ## percentage\n",
    "    percentage = pd.value_counts(\n",
    "    pd.cut(x=df.PRE_VENDA, bins = k, include_lowest = True), sort = False, normalize = True) *100 \n",
    "\n",
    "    ## Formatting Frequency Table\n",
    "    df_ = ({'O(i)' : frequency, 'pi' : percentage/100, 'Pi': percentage.cumsum()/100})\n",
    "\n",
    "    df_ = pd.DataFrame(df_)\n",
    "    df_.reset_index(inplace=True)\n",
    "    df_.rename(columns={'index' : 'range'}, inplace = True)\n",
    "    \n",
    "    df_['Xi'] = df_.range.apply(lambda range: range.mid).astype(np.float32)\n",
    "    \n",
    "    df_['Xi*pi'] = df_.Xi.mul(df_.pi)\n",
    "    media_DA = df_['Xi*pi'].sum()\n",
    "    \n",
    "    df_['di^2*pi'] = df_.apply(lambda row: ((row.Xi - media_DA)**2) * row.pi, axis=1)\n",
    "    var_DA = df_['di^2*pi'].sum()\n",
    "    desvio_DA = np.sqrt(df_['di^2*pi'].sum())\n",
    "    \n",
    "    # df_['Zi(Li)'] = (primeiro valor da classe - media_DA) / desvio_DA\n",
    "    # df_['Zi(Ls)'] = (primeiro valor da classe - media_DA) / desvio_DA\n",
    "    # df_['E(i)'] = (Pr Ls - Pr Li) * df.shape[0]\n",
    "\n",
    "    df_['Zi(Li)'] = df_.apply(lambda row: (get_range_value(row.range) - media_DA) / desvio_DA, axis=1)\n",
    "    df_['Zi(Ls)'] = df_.apply(lambda row: (get_range_value(row.range, False) - media_DA) / desvio_DA, axis=1)\n",
    "    df_['Pr Ac até Li'] = df_.apply(lambda row: get_prob(row), axis=1)\n",
    "    df_['Pr Ac até Ls'] = df_.apply(lambda row: get_prob(row, False), axis=1)\n",
    "\n",
    "\n",
    "    df_['E(i)'] = (df_['Pr Ac até Ls'] - df_['Pr Ac até Li']) * df.shape[0]\n",
    "    df_['(O(i)-E(i))ˆ2/E(i)'] = df_.apply(lambda row: pow((row['O(i)'] - row['E(i)']), 2)/row['E(i)'], axis=1)\n",
    "    \n",
    "    \n",
    "    media_DNA = df.PRE_VENDA.mean()\n",
    "    mediana_DNA = df.PRE_VENDA.median()\n",
    "    desvio_DNA = df.PRE_VENDA.std()\n",
    "    var_DNA = df.PRE_VENDA.std()**2\n",
    "    \n",
    "    erro_media = abs(media_DNA - media_DA) * 100 / media_DNA\n",
    "    erro_desvio = abs(desvio_DNA - desvio_DA) * 100 / desvio_DNA\n",
    "    erro_var = abs(var_DNA - var_DA) * 100 / var_DNA\n",
    "\n",
    "    CV = desvio_DA / media_DA\n",
    "    print(f'Medias: DNA: {media_DNA} DA: {media_DA}')\n",
    "    print(f'Mediana: DNA: {mediana_DNA} DA: ')\n",
    "    print(f'Desvios: DNA: {desvio_DNA} DA: {desvio_DA}')\n",
    "    print(f'Variância: DNA: {var_DNA} DA: {var_DA}')\n",
    "    print(f'CV: {CV}')\n",
    "    print(f'Erro da média: {erro_media}')\n",
    "    print(f'Erro do desvio padrão: {erro_desvio}')\n",
    "    print(f'Erro da variância: {erro_var}')\n",
    "    print(f'Razao: {var_DA ** 2}')\n",
    "    print(f'Razao: {df.shape[0]}')\n",
    "    return df_"
   ]
  },
  {
   "cell_type": "code",
   "execution_count": 33,
   "id": "828fdf39-a5b4-4506-9a68-8a5d07da4f33",
   "metadata": {},
   "outputs": [
    {
     "name": "stdout",
     "output_type": "stream",
     "text": [
      "K: 8\n",
      "Medias: DNA: 4.6686193181818165 DA: 4.665525563738563\n",
      "Mediana: DNA: 4.655 DA: \n",
      "Desvios: DNA: 0.16575340538312897 DA: 0.16832005259851693\n",
      "Variância: DNA: 0.027474191396103888 DA: 0.02833164010676751\n",
      "CV: 0.036077404420787114\n",
      "Erro da média: 0.06626701027442722\n",
      "Erro do desvio padrão: 1.5484732934779306\n",
      "Erro da variância: 3.1209242823620156\n",
      "Razao: 0.0008026818311393973\n",
      "Razao: 176\n"
     ]
    }
   ],
   "source": [
    "# Analise BAHIA\n",
    "analyse_df(df_BA).to_excel('output.xlsx')"
   ]
  },
  {
   "cell_type": "code",
   "execution_count": 34,
   "id": "5bae8e1b-3567-4a8f-91bf-62b2a0f35adb",
   "metadata": {},
   "outputs": [
    {
     "name": "stdout",
     "output_type": "stream",
     "text": [
      "K: 8\n",
      "Medias: DNA: 4.701899408284025 DA: 4.704500091146436\n",
      "Mediana: DNA: 4.699 DA: \n",
      "Desvios: DNA: 0.1352729007533261 DA: 0.13574187585671013\n",
      "Variância: DNA: 0.018298757678219212 DA: 0.018425856861098502\n",
      "CV: 0.028853623812691076\n",
      "Erro da média: 0.05531132498981851\n",
      "Erro do desvio padrão: 0.34668813988045033\n",
      "Erro da variância: 0.694578206424225\n",
      "Razao: 0.0003395122010656908\n",
      "Razao: 169\n"
     ]
    }
   ],
   "source": [
    "# Analise CEARA\n",
    "analyse_df(df_CE).to_excel('output.xlsx')"
   ]
  }
 ],
 "metadata": {
  "kernelspec": {
   "display_name": "Python 3",
   "language": "python",
   "name": "python3"
  },
  "language_info": {
   "codemirror_mode": {
    "name": "ipython",
    "version": 3
   },
   "file_extension": ".py",
   "mimetype": "text/x-python",
   "name": "python",
   "nbconvert_exporter": "python",
   "pygments_lexer": "ipython3",
   "version": "3.8.8"
  }
 },
 "nbformat": 4,
 "nbformat_minor": 5
}
