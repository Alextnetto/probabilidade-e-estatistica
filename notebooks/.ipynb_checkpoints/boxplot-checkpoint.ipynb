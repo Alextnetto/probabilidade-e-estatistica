{
 "cells": [
  {
   "cell_type": "code",
   "execution_count": 47,
   "id": "5e8c56f7-a987-441d-90f6-d41befecfacb",
   "metadata": {},
   "outputs": [],
   "source": [
    "import pandas as pd\n",
    "\n",
    "df = pd.read_excel('data.xlsx')\n",
    "df.COMBUSTIVEL = 'DIE S10'\n",
    "df_BA = df[df.ESTADO == 'BAHIA']\n",
    "df_CE = df[df.ESTADO == 'CEARA']\n",
    "df_PETROBRAS = df[df.BANDEIRA == 'PETROBRAS DISTRIBUIDORA S.A.']\n",
    "df_IPIRANGA = df[df.BANDEIRA == 'IPIRANGA']\n",
    "df_OUTRAS = df[(df.BANDEIRA != 'IPIRANGA') & (df.BANDEIRA != 'PETROBRAS DISTRIBUIDORA S.A.')]\n",
    "df_OUTRAS.BANDEIRA = 'OUTROS'"
   ]
  },
  {
   "cell_type": "code",
   "execution_count": 48,
   "id": "9fcd0622-6e99-4769-a4d8-8204c43ed471",
   "metadata": {},
   "outputs": [
    {
     "data": {
      "text/plain": [
       "Text(0.5, 1.0, '')"
      ]
     },
     "execution_count": 48,
     "metadata": {},
     "output_type": "execute_result"
    },
    {
     "data": {
      "image/png": "[encoded data removed]",
      "text/plain": [
       "<Figure size 432x288 with 1 Axes>"
      ]
     },
     "metadata": {
      "needs_background": "light"
     },
     "output_type": "display_data"
    }
   ],
   "source": [
    "ax = df.boxplot(column='PRE_VENDA',by='ESTADO')\n",
    "ax.set_title('', pad=20)"
   ]
  },
  {
   "cell_type": "code",
   "execution_count": 51,
   "id": "b2bea42e-1937-4257-a24c-d24c16ea0d91",
   "metadata": {},
   "outputs": [],
   "source": [
    "df_BANDEIRA_ANALISE = df_PETROBRAS.append(df_IPIRANGA).append(df_OUTRAS)"
   ]
  },
  {
   "cell_type": "code",
   "execution_count": 55,
   "id": "b01a15b0-cae4-4def-9add-a38d6782772b",
   "metadata": {},
   "outputs": [
    {
     "data": {
      "text/plain": [
       "Text(0.5, 1.0, '')"
      ]
     },
     "execution_count": 55,
     "metadata": {},
     "output_type": "execute_result"
    },
    {
     "data": {
      "image/png": "[encoded data removed]",
      "text/plain": [
       "<Figure size 432x288 with 1 Axes>"
      ]
     },
     "metadata": {
      "needs_background": "light"
     },
     "output_type": "display_data"
    }
   ],
   "source": [
    "ax = df_BANDEIRA_ANALISE.boxplot(column='PRE_VENDA',by='BANDEIRA')\n",
    "ax.set_title('', pad=20)"
   ]
  },
  {
   "cell_type": "code",
   "execution_count": 56,
   "id": "a08b0a1d-9b8d-48f9-8bbc-397d348ab729",
   "metadata": {},
   "outputs": [
    {
     "data": {
      "text/plain": [
       "OUTROS                          113\n",
       "PETROBRAS DISTRIBUIDORA S.A.     54\n",
       "IPIRANGA                          9\n",
       "Name: BANDEIRA, dtype: int64"
      ]
     },
     "execution_count": 56,
     "metadata": {},
     "output_type": "execute_result"
    }
   ],
   "source": [
    "df_BANDEIRA_ANALISE[df_BANDEIRA_ANALISE.ESTADO == 'BAHIA'].BANDEIRA.value_counts()"
   ]
  },
  {
   "cell_type": "code",
   "execution_count": 57,
   "id": "3df7ee97-539d-43ed-9d4b-03518f2ed314",
   "metadata": {},
   "outputs": [
    {
     "data": {
      "text/plain": [
       "OUTROS                          94\n",
       "PETROBRAS DISTRIBUIDORA S.A.    54\n",
       "IPIRANGA                        21\n",
       "Name: BANDEIRA, dtype: int64"
      ]
     },
     "execution_count": 57,
     "metadata": {},
     "output_type": "execute_result"
    }
   ],
   "source": [
    "df_BANDEIRA_ANALISE[df_BANDEIRA_ANALISE.ESTADO == 'CEARA'].BANDEIRA.value_counts()"
   ]
  },
  {
   "cell_type": "code",
   "execution_count": null,
   "id": "053645b9-a93c-4887-a32e-02c180f71131",
   "metadata": {},
   "outputs": [],
   "source": []
  },
  {
   "cell_type": "code",
   "execution_count": null,
   "id": "2481e9d7-85fe-4ee9-89ae-77ce3cfd946a",
   "metadata": {},
   "outputs": [],
   "source": []
  }
 ],
 "metadata": {
  "kernelspec": {
   "display_name": "Python 3",
   "language": "python",
   "name": "python3"
  },
  "language_info": {
   "codemirror_mode": {
    "name": "ipython",
    "version": 3
   },
   "file_extension": ".py",
   "mimetype": "text/x-python",
   "name": "python",
   "nbconvert_exporter": "python",
   "pygments_lexer": "ipython3",
   "version": "3.8.8"
  }
 },
 "nbformat": 4,
 "nbformat_minor": 5
}
